{
 "cells": [
  {
   "cell_type": "markdown",
   "id": "fd11b4d9",
   "metadata": {},
   "source": [
    "### Dependencies & Data "
   ]
  },
  {
   "cell_type": "code",
   "execution_count": 8,
   "id": "3e191bd9",
   "metadata": {},
   "outputs": [
    {
     "data": {
      "text/html": [
       "<div>\n",
       "<style scoped>\n",
       "    .dataframe tbody tr th:only-of-type {\n",
       "        vertical-align: middle;\n",
       "    }\n",
       "\n",
       "    .dataframe tbody tr th {\n",
       "        vertical-align: top;\n",
       "    }\n",
       "\n",
       "    .dataframe thead th {\n",
       "        text-align: right;\n",
       "    }\n",
       "</style>\n",
       "<table border=\"1\" class=\"dataframe\">\n",
       "  <thead>\n",
       "    <tr style=\"text-align: right;\">\n",
       "      <th></th>\n",
       "      <th>bet_id</th>\n",
       "      <th>event_id</th>\n",
       "      <th>event_date</th>\n",
       "      <th>bet_type</th>\n",
       "      <th>odds</th>\n",
       "      <th>bet_amount</th>\n",
       "      <th>bet_outcome</th>\n",
       "    </tr>\n",
       "  </thead>\n",
       "  <tbody>\n",
       "    <tr>\n",
       "      <th>0</th>\n",
       "      <td>1001</td>\n",
       "      <td>2001</td>\n",
       "      <td>1/1/2022</td>\n",
       "      <td>moneyline</td>\n",
       "      <td>1.5</td>\n",
       "      <td>100</td>\n",
       "      <td>win</td>\n",
       "    </tr>\n",
       "    <tr>\n",
       "      <th>1</th>\n",
       "      <td>1002</td>\n",
       "      <td>2001</td>\n",
       "      <td>1/1/2022</td>\n",
       "      <td>spread</td>\n",
       "      <td>2.2</td>\n",
       "      <td>150</td>\n",
       "      <td>loss</td>\n",
       "    </tr>\n",
       "    <tr>\n",
       "      <th>2</th>\n",
       "      <td>1003</td>\n",
       "      <td>2001</td>\n",
       "      <td>1/1/2022</td>\n",
       "      <td>over/under</td>\n",
       "      <td>1.8</td>\n",
       "      <td>50</td>\n",
       "      <td>win</td>\n",
       "    </tr>\n",
       "    <tr>\n",
       "      <th>3</th>\n",
       "      <td>1004</td>\n",
       "      <td>2002</td>\n",
       "      <td>1/2/2022</td>\n",
       "      <td>moneyline</td>\n",
       "      <td>2.0</td>\n",
       "      <td>75</td>\n",
       "      <td>win</td>\n",
       "    </tr>\n",
       "    <tr>\n",
       "      <th>4</th>\n",
       "      <td>1005</td>\n",
       "      <td>2002</td>\n",
       "      <td>1/2/2022</td>\n",
       "      <td>spread</td>\n",
       "      <td>1.9</td>\n",
       "      <td>125</td>\n",
       "      <td>win</td>\n",
       "    </tr>\n",
       "  </tbody>\n",
       "</table>\n",
       "</div>"
      ],
      "text/plain": [
       "   bet_id  event_id event_date    bet_type  odds  bet_amount bet_outcome\n",
       "0    1001      2001   1/1/2022   moneyline   1.5         100         win\n",
       "1    1002      2001   1/1/2022      spread   2.2         150        loss\n",
       "2    1003      2001   1/1/2022  over/under   1.8          50         win\n",
       "3    1004      2002   1/2/2022   moneyline   2.0          75         win\n",
       "4    1005      2002   1/2/2022      spread   1.9         125         win"
      ]
     },
     "execution_count": 8,
     "metadata": {},
     "output_type": "execute_result"
    }
   ],
   "source": [
    "import pandas as pd\n",
    "import numpy as np\n",
    "import matplotlib.pyplot as plt\n",
    "import seaborn as sns\n",
    "\n",
    "df = pd.read_csv(\"BetData.csv\")\n",
    "df.head()"
   ]
  },
  {
   "cell_type": "markdown",
   "id": "ddd8b820",
   "metadata": {},
   "source": [
    "### EDA Exploratory Data Analysis"
   ]
  },
  {
   "cell_type": "code",
   "execution_count": 9,
   "id": "4bb9de23",
   "metadata": {},
   "outputs": [],
   "source": [
    "# Event Date to datetime format\n",
    "df['event_date'] = pd.to_datetime(df['event_date'])"
   ]
  },
  {
   "cell_type": "markdown",
   "id": "bad4882d",
   "metadata": {},
   "source": [
    "### Define the indicators"
   ]
  },
  {
   "cell_type": "code",
   "execution_count": 10,
   "id": "1c0760d9",
   "metadata": {},
   "outputs": [],
   "source": [
    "# Defining win and loss indicators\n",
    "# Win flag is 1 if the value is win else it is 0\n",
    "\n",
    "df['win_flag'] = df['bet_outcome'].apply(lambda x: 1 if x == 'win' else 0)"
   ]
  },
  {
   "cell_type": "code",
   "execution_count": 11,
   "id": "a9d6721c",
   "metadata": {},
   "outputs": [],
   "source": [
    "# Calculate 'bet_return' column based on bet outcome\n",
    "# If 'bet_outcome' is 'win', calculate the return as 'bet_amount' * 'odds'\n",
    "# Otherwise, return the negative 'bet_amount' (indicating a loss)\n",
    "# # Apply function across each row\n",
    "\n",
    "df['bet_return'] = df.apply(lambda row: row['bet_amount'] * row['odds'] \n",
    "                            if row['bet_outcome'] == 'win' \n",
    "                            else -row['bet_amount'], axis=1)"
   ]
  },
  {
   "cell_type": "markdown",
   "id": "e7087b53",
   "metadata": {},
   "source": [
    "### Number of Bets"
   ]
  },
  {
   "cell_type": "code",
   "execution_count": 12,
   "id": "bdaf639a",
   "metadata": {},
   "outputs": [
    {
     "name": "stdout",
     "output_type": "stream",
     "text": [
      "12\n"
     ]
    }
   ],
   "source": [
    "# Total Number OF Bets\n",
    "\n",
    "total_bets = df.shape[0]\n",
    "print(total_bets)"
   ]
  },
  {
   "cell_type": "markdown",
   "id": "ae97232c",
   "metadata": {},
   "source": [
    "# Winning Odds Distribution"
   ]
  },
  {
   "cell_type": "code",
   "execution_count": 41,
   "id": "ed592bea",
   "metadata": {},
   "outputs": [
    {
     "name": "stdout",
     "output_type": "stream",
     "text": [
      "1.9    2\n",
      "1.5    1\n",
      "1.8    1\n",
      "2.0    1\n",
      "2.4    1\n",
      "2.2    1\n",
      "Name: odds, dtype: int64\n"
     ]
    }
   ],
   "source": [
    "\n",
    "winning_bets = df[df['win_flag'] == 1]\n",
    "winning_ods_distr = winning_bets['odds'].value_counts()\n",
    "print(winning_ods_distr)"
   ]
  },
  {
   "cell_type": "markdown",
   "id": "f2b32e8a",
   "metadata": {},
   "source": [
    "### Profit VS Loss for each bet"
   ]
  },
  {
   "cell_type": "code",
   "execution_count": 42,
   "id": "301199d7",
   "metadata": {},
   "outputs": [],
   "source": [
    "# Calculate 'profit_loss' column based on the betting outcome\n",
    "# If the bet is won, calculate profit as 'bet_amount' * ('odds' - 1)\n",
    "# Otherwise, record a negative loss equal to 'bet_amount' if bet is lost\n",
    "# DO that for every row\n",
    "\n",
    "df['profit_loss'] = df.apply(lambda row: (row['bet_amount'] * (row['odds']-1))\n",
    "                             if row['bet_outcome'] == 'win'\n",
    "                             else -row['bet_amount'], axis=1)\n"
   ]
  },
  {
   "cell_type": "code",
   "execution_count": 18,
   "id": "6771203f",
   "metadata": {},
   "outputs": [],
   "source": [
    "total_profit_ls = df['profit_loss'].sum()"
   ]
  },
  {
   "cell_type": "code",
   "execution_count": 19,
   "id": "3e6e8ed2",
   "metadata": {},
   "outputs": [],
   "source": [
    "ods_of_win = df[df['bet_outcome'] == 'win']['odds'].sum()"
   ]
  },
  {
   "cell_type": "code",
   "execution_count": 21,
   "id": "df4deaf6",
   "metadata": {},
   "outputs": [],
   "source": [
    "# Individual Profits\n",
    "df_individual_profits = df[['bet_id', 'bet_amount', 'odds', 'bet_outcome', 'profit_loss']]"
   ]
  },
  {
   "cell_type": "code",
   "execution_count": 22,
   "id": "8cf44732",
   "metadata": {},
   "outputs": [
    {
     "name": "stdout",
     "output_type": "stream",
     "text": [
      "    bet_id  bet_amount  odds bet_outcome  profit_loss\n",
      "0     1001         100   1.5         win         50.0\n",
      "1     1002         150   2.2        loss       -150.0\n",
      "2     1003          50   1.8         win         40.0\n",
      "3     1004          75   2.0         win         75.0\n",
      "4     1005         125   1.9         win        112.5\n",
      "5     1006          80   2.1        loss        -80.0\n",
      "6     1007         200   1.6        loss       -200.0\n",
      "7     1008         100   2.4         win        140.0\n",
      "8     1009          60   1.7        loss        -60.0\n",
      "9     1010         150   1.9         win        135.0\n",
      "10    1011         100   2.0        loss       -100.0\n",
      "11    1012          70   2.2         win         84.0\n"
     ]
    }
   ],
   "source": [
    "print(df_individual_profits)"
   ]
  },
  {
   "cell_type": "markdown",
   "id": "db336573",
   "metadata": {},
   "source": [
    "### Advance Analytics  - Financial Analysis"
   ]
  },
  {
   "cell_type": "code",
   "execution_count": 24,
   "id": "42ee34a8",
   "metadata": {},
   "outputs": [],
   "source": [
    "# Calculate the Profit\n",
    "df['Profit'] = df.apply(lambda row: row['bet_amount'] * (row['odds'] - 1)\n",
    "                        if row['bet_outcome'] == 'win' else\n",
    "                        -row['bet_amount'], axis=1 )"
   ]
  },
  {
   "cell_type": "code",
   "execution_count": 25,
   "id": "ed1be68b",
   "metadata": {},
   "outputs": [
    {
     "name": "stdout",
     "output_type": "stream",
     "text": [
      "Total Profit / Loss: 46.5\n"
     ]
    }
   ],
   "source": [
    "# Overall Profit/Loss Calculation\n",
    "total_profit = df['Profit'].sum()\n",
    "print(f\"Total Profit / Loss: {total_profit}\")"
   ]
  },
  {
   "cell_type": "markdown",
   "id": "cb72bfb4",
   "metadata": {},
   "source": [
    "# Profit Loss By Bet Technique"
   ]
  },
  {
   "cell_type": "code",
   "execution_count": 43,
   "id": "117c8aaf",
   "metadata": {},
   "outputs": [
    {
     "name": "stdout",
     "output_type": "stream",
     "text": [
      "Profit/Loss by Bet Technique\n",
      "bet_type\n",
      "moneyline     60.0\n",
      "over/under   -16.0\n",
      "spread         2.5\n",
      "Name: Profit, dtype: float64\n"
     ]
    }
   ],
   "source": [
    "profit_type = df.groupby('bet_type')['Profit'].sum()\n",
    "print(\"Profit/Loss by Bet Technique\")\n",
    "print(profit_type)"
   ]
  },
  {
   "cell_type": "markdown",
   "id": "adb7968e",
   "metadata": {},
   "source": [
    "### Profit Vs Loss By Day"
   ]
  },
  {
   "cell_type": "code",
   "execution_count": 45,
   "id": "f43847a1",
   "metadata": {},
   "outputs": [
    {
     "name": "stdout",
     "output_type": "stream",
     "text": [
      "Profit/Loss By Event Date\n",
      "event_date\n",
      "2022-01-01    -60.0\n",
      "2022-01-02    107.5\n",
      "2022-01-03   -120.0\n",
      "2022-01-04    119.0\n",
      "Name: Profit, dtype: float64\n"
     ]
    }
   ],
   "source": [
    "profit_date = df.groupby('event_date')['Profit'].sum()\n",
    "print(\"Profit/Loss By Event Date\")\n",
    "print(profit_date)"
   ]
  },
  {
   "cell_type": "markdown",
   "id": "f9670bfa",
   "metadata": {},
   "source": [
    "# Return Of Investment on all bets"
   ]
  },
  {
   "cell_type": "code",
   "execution_count": 28,
   "id": "d845de85",
   "metadata": {},
   "outputs": [
    {
     "name": "stdout",
     "output_type": "stream",
     "text": [
      "ROI: 3.7%\n"
     ]
    }
   ],
   "source": [
    "# Return On Investment \n",
    "total_investment = df['bet_amount'].sum()\n",
    "roi = (total_profit / total_investment) * 100\n",
    "print(f\"ROI: {roi:.2}%\")\n"
   ]
  },
  {
   "cell_type": "markdown",
   "id": "5c7684ff",
   "metadata": {},
   "source": [
    "### Statistical (Inspiration By Betson Hackathon in Malta)"
   ]
  },
  {
   "cell_type": "code",
   "execution_count": 46,
   "id": "58df02f5",
   "metadata": {},
   "outputs": [
    {
     "name": "stdout",
     "output_type": "stream",
     "text": [
      "Bet outcome Distribution:\n",
      "win     7\n",
      "loss    5\n",
      "Name: bet_outcome, dtype: int64\n"
     ]
    }
   ],
   "source": [
    "# Bet Distribution\n",
    "\n",
    "outcome_distr = df['bet_outcome'].value_counts()\n",
    "print(\"Bet outcome Distribution:\")\n",
    "print(outcome_distr)\n"
   ]
  },
  {
   "cell_type": "markdown",
   "id": "86a6653e",
   "metadata": {},
   "source": [
    "### Win VS Loss"
   ]
  },
  {
   "cell_type": "code",
   "execution_count": 33,
   "id": "9b6697b9",
   "metadata": {},
   "outputs": [
    {
     "name": "stdout",
     "output_type": "stream",
     "text": [
      "\n",
      "Average Odds of Wins: 1.96\n",
      "Average Odds of Losses: 1.92\n"
     ]
    }
   ],
   "source": [
    "# Average Odds of Wins vs Loss\n",
    "\n",
    "avg_odds_win = df[df['bet_outcome'] == 'win']['odds'].mean()\n",
    "avg_odds_lose = df[df['bet_outcome'] == 'loss']['odds'].mean()\n",
    "\n",
    "print(f\"\\nAverage Odds of Wins: {avg_odds_win:.2f}\")\n",
    "print(f\"Average Odds of Losses: {avg_odds_lose:.2f}\")\n"
   ]
  },
  {
   "cell_type": "markdown",
   "id": "09f0d85b",
   "metadata": {},
   "source": [
    "### Profit Per Odd\n",
    "Idea from stackoverflow"
   ]
  },
  {
   "cell_type": "code",
   "execution_count": 34,
   "id": "e70c730a",
   "metadata": {},
   "outputs": [
    {
     "name": "stdout",
     "output_type": "stream",
     "text": [
      "Profit By Odds Range:\n",
      "odds_range\n",
      "1.0-1.5    50.0\n",
      "1.5-2.0     2.5\n",
      "2.0-2.5    -6.0\n",
      "2.5-3.0     0.0\n",
      "Name: Profit, dtype: float64\n"
     ]
    }
   ],
   "source": [
    "df['odds_range'] = pd.cut(df['odds'], bins=[1.0, 1.5, 2.0, 2.5, 3.0], labels=['1.0-1.5', '1.5-2.0', '2.0-2.5', '2.5-3.0'])\n",
    "profit_odds = df.groupby('odds_range')['Profit'].sum()\n",
    "print(\"Profit By Odds Range:\")\n",
    "print(profit_odds)\n"
   ]
  },
  {
   "cell_type": "code",
   "execution_count": 37,
   "id": "88db5198",
   "metadata": {},
   "outputs": [
    {
     "name": "stdout",
     "output_type": "stream",
     "text": [
      "\n",
      "Optimal Bet Types by Profit:\n"
     ]
    },
    {
     "ename": "NameError",
     "evalue": "name 'optimal_bet_types' is not defined",
     "output_type": "error",
     "traceback": [
      "\u001b[1;31m---------------------------------------------------------------------------\u001b[0m",
      "\u001b[1;31mNameError\u001b[0m                                 Traceback (most recent call last)",
      "Input \u001b[1;32mIn [37]\u001b[0m, in \u001b[0;36m<cell line: 4>\u001b[1;34m()\u001b[0m\n\u001b[0;32m      2\u001b[0m optimal_bet \u001b[38;5;241m=\u001b[39m profit_type\u001b[38;5;241m.\u001b[39msort_values(ascending\u001b[38;5;241m=\u001b[39m\u001b[38;5;28;01mFalse\u001b[39;00m)\n\u001b[0;32m      3\u001b[0m \u001b[38;5;28mprint\u001b[39m(\u001b[38;5;124m\"\u001b[39m\u001b[38;5;130;01m\\n\u001b[39;00m\u001b[38;5;124mOptimal Bet Types by Profit:\u001b[39m\u001b[38;5;124m\"\u001b[39m)\n\u001b[1;32m----> 4\u001b[0m \u001b[38;5;28mprint\u001b[39m(\u001b[43moptimal_bet_types\u001b[49m)\n",
      "\u001b[1;31mNameError\u001b[0m: name 'optimal_bet_types' is not defined"
     ]
    }
   ],
   "source": [
    "# Optimization and Strategy Insights\n",
    "optimal_bet = profit_type.sort_values(ascending=False)\n",
    "print(\"\\nOptimal Bet Types by Profit:\")\n",
    "print(optimal_bet_types)"
   ]
  },
  {
   "cell_type": "code",
   "execution_count": null,
   "id": "66c7f003",
   "metadata": {},
   "outputs": [],
   "source": [
    "#Recommendation System - Basic Strategy Insight\n",
    "recommended = optimal_bet.idxmax()\n",
    "print(f\"\\nRecommended Bet Type Based on Historical Success: {recommended}\")"
   ]
  },
  {
   "cell_type": "code",
   "execution_count": null,
   "id": "e6ca8f1a",
   "metadata": {},
   "outputs": [],
   "source": []
  }
 ],
 "metadata": {
  "kernelspec": {
   "display_name": "Python 3 (ipykernel)",
   "language": "python",
   "name": "python3"
  },
  "language_info": {
   "codemirror_mode": {
    "name": "ipython",
    "version": 3
   },
   "file_extension": ".py",
   "mimetype": "text/x-python",
   "name": "python",
   "nbconvert_exporter": "python",
   "pygments_lexer": "ipython3",
   "version": "3.9.12"
  }
 },
 "nbformat": 4,
 "nbformat_minor": 5
}
