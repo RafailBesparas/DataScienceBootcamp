{
 "cells": [
  {
   "cell_type": "code",
   "execution_count": 2,
   "id": "3e191bd9",
   "metadata": {},
   "outputs": [
    {
     "data": {
      "text/html": [
       "<div>\n",
       "<style scoped>\n",
       "    .dataframe tbody tr th:only-of-type {\n",
       "        vertical-align: middle;\n",
       "    }\n",
       "\n",
       "    .dataframe tbody tr th {\n",
       "        vertical-align: top;\n",
       "    }\n",
       "\n",
       "    .dataframe thead th {\n",
       "        text-align: right;\n",
       "    }\n",
       "</style>\n",
       "<table border=\"1\" class=\"dataframe\">\n",
       "  <thead>\n",
       "    <tr style=\"text-align: right;\">\n",
       "      <th></th>\n",
       "      <th>bet_id</th>\n",
       "      <th>event_id</th>\n",
       "      <th>event_date</th>\n",
       "      <th>bet_type</th>\n",
       "      <th>odds</th>\n",
       "      <th>bet_amount</th>\n",
       "      <th>bet_outcome</th>\n",
       "    </tr>\n",
       "  </thead>\n",
       "  <tbody>\n",
       "    <tr>\n",
       "      <th>0</th>\n",
       "      <td>1001</td>\n",
       "      <td>2001</td>\n",
       "      <td>1/1/2022</td>\n",
       "      <td>moneyline</td>\n",
       "      <td>1.5</td>\n",
       "      <td>100</td>\n",
       "      <td>win</td>\n",
       "    </tr>\n",
       "    <tr>\n",
       "      <th>1</th>\n",
       "      <td>1002</td>\n",
       "      <td>2001</td>\n",
       "      <td>1/1/2022</td>\n",
       "      <td>spread</td>\n",
       "      <td>2.2</td>\n",
       "      <td>150</td>\n",
       "      <td>loss</td>\n",
       "    </tr>\n",
       "    <tr>\n",
       "      <th>2</th>\n",
       "      <td>1003</td>\n",
       "      <td>2001</td>\n",
       "      <td>1/1/2022</td>\n",
       "      <td>over/under</td>\n",
       "      <td>1.8</td>\n",
       "      <td>50</td>\n",
       "      <td>win</td>\n",
       "    </tr>\n",
       "    <tr>\n",
       "      <th>3</th>\n",
       "      <td>1004</td>\n",
       "      <td>2002</td>\n",
       "      <td>1/2/2022</td>\n",
       "      <td>moneyline</td>\n",
       "      <td>2.0</td>\n",
       "      <td>75</td>\n",
       "      <td>win</td>\n",
       "    </tr>\n",
       "    <tr>\n",
       "      <th>4</th>\n",
       "      <td>1005</td>\n",
       "      <td>2002</td>\n",
       "      <td>1/2/2022</td>\n",
       "      <td>spread</td>\n",
       "      <td>1.9</td>\n",
       "      <td>125</td>\n",
       "      <td>win</td>\n",
       "    </tr>\n",
       "  </tbody>\n",
       "</table>\n",
       "</div>"
      ],
      "text/plain": [
       "   bet_id  event_id event_date    bet_type  odds  bet_amount bet_outcome\n",
       "0    1001      2001   1/1/2022   moneyline   1.5         100         win\n",
       "1    1002      2001   1/1/2022      spread   2.2         150        loss\n",
       "2    1003      2001   1/1/2022  over/under   1.8          50         win\n",
       "3    1004      2002   1/2/2022   moneyline   2.0          75         win\n",
       "4    1005      2002   1/2/2022      spread   1.9         125         win"
      ]
     },
     "execution_count": 2,
     "metadata": {},
     "output_type": "execute_result"
    }
   ],
   "source": [
    "import pandas as pd\n",
    "import numpy as np\n",
    "import matplotlib.pyplot as plt\n",
    "import seaborn as sns\n",
    "\n",
    "# importing Data Set \n",
    "df = pd.read_csv(\"export_2024-09-02T1153.csv\")\n",
    "df.head()"
   ]
  },
  {
   "cell_type": "code",
   "execution_count": 3,
   "id": "4bb9de23",
   "metadata": {},
   "outputs": [],
   "source": [
    "# Event Date to datetime format\n",
    "\n",
    "df['event_date'] = pd.to_datetime(df['event_date'])\n"
   ]
  },
  {
   "cell_type": "code",
   "execution_count": 4,
   "id": "1c0760d9",
   "metadata": {},
   "outputs": [],
   "source": [
    "# Defining win and loss indicators\n",
    "\n",
    "df['win_flag'] = df['bet_outcome'].apply(lambda x: 1 if x == 'win' else 0)\n"
   ]
  },
  {
   "cell_type": "code",
   "execution_count": 5,
   "id": "a9d6721c",
   "metadata": {},
   "outputs": [],
   "source": [
    "# Calculation of the return from bets\n",
    "\n",
    "df['bet_return'] = df.apply(lambda row: row['bet_amount'] * row['odds'] if row['bet_outcome'] == 'win' else -row['bet_amount'], axis=1)\n"
   ]
  },
  {
   "cell_type": "code",
   "execution_count": 6,
   "id": "bdaf639a",
   "metadata": {},
   "outputs": [],
   "source": [
    "# Total Number OF Bets\n",
    "\n",
    "total_bets = df.shape[0]\n"
   ]
  },
  {
   "cell_type": "code",
   "execution_count": 7,
   "id": "7bcac409",
   "metadata": {},
   "outputs": [],
   "source": [
    "# Overall win rate \n",
    "\n",
    "win_rate = df['win_flag'].mean()\n"
   ]
  },
  {
   "cell_type": "code",
   "execution_count": 8,
   "id": "bfa3c2e2",
   "metadata": {},
   "outputs": [],
   "source": [
    "# Total Profit/Loss (betting return)\n",
    "\n",
    "total_return = df['bet_return'].sum()\n"
   ]
  },
  {
   "cell_type": "code",
   "execution_count": 9,
   "id": "ed592bea",
   "metadata": {},
   "outputs": [],
   "source": [
    "# Distribution of Winning Ods\n",
    "\n",
    "winning_bets = df[df['win_flag'] == 1]\n",
    "winning_ods_distr = winning_bets['odds'].value_counts()\n"
   ]
  },
  {
   "cell_type": "code",
   "execution_count": 10,
   "id": "f560a269",
   "metadata": {},
   "outputs": [
    {
     "name": "stdout",
     "output_type": "stream",
     "text": [
      "{'Total Bets': 12, 'Win Rate': 0.5833333333333334, 'Total Betting Return': 716.5, 'Wining Odds Distribution': 1.9    2\n",
      "1.5    1\n",
      "1.8    1\n",
      "2.0    1\n",
      "2.4    1\n",
      "2.2    1\n",
      "Name: odds, dtype: int64}\n"
     ]
    }
   ],
   "source": [
    "# Outputs\n",
    "\n",
    "summary = {\n",
    "    'Total Bets': total_bets,\n",
    "    'Win Rate': win_rate,\n",
    "    'Total Betting Return': total_return,\n",
    "    'Wining Odds Distribution': winning_ods_distr\n",
    "}\n",
    "\n",
    "print(summary)"
   ]
  },
  {
   "cell_type": "code",
   "execution_count": 11,
   "id": "301199d7",
   "metadata": {},
   "outputs": [],
   "source": [
    "# Profit / Loss for each bet\n",
    "\n",
    "df['profit_loss'] = df.apply(lambda row: (row['bet_amount'] * (row['odds']-1)) if row['bet_outcome'] == 'win' else -row['bet_amount'], axis=1)\n"
   ]
  },
  {
   "cell_type": "code",
   "execution_count": 12,
   "id": "6771203f",
   "metadata": {},
   "outputs": [],
   "source": [
    "# Total Profit/Loss\n",
    "total_profit_ls = df['profit_loss'].sum()"
   ]
  },
  {
   "cell_type": "code",
   "execution_count": 13,
   "id": "3e6e8ed2",
   "metadata": {},
   "outputs": [],
   "source": [
    "# Total winning odds\n",
    "\n",
    "ods_of_win = df[df['bet_outcome'] == 'win']['odds'].sum()\n"
   ]
  },
  {
   "cell_type": "code",
   "execution_count": 14,
   "id": "7f9d579a",
   "metadata": {},
   "outputs": [
    {
     "data": {
      "image/png": "[encoded data removed]",
      "text/plain": [
       "<Figure size 432x288 with 2 Axes>"
      ]
     },
     "metadata": {
      "needs_background": "light"
     },
     "output_type": "display_data"
    }
   ],
   "source": [
    "# Plotting\n",
    "\n",
    "plt.subplot(1, 2, 1)\n",
    "plt.bar(['Total Profit/Loss'], [total_profit_ls], color='blue')\n",
    "plt.ylabel('Amount')\n",
    "plt.title('Total Profit/Loss')\n",
    "plt.subplot(1, 2, 2)\n",
    "plt.bar(['Winning Odds'], [ods_of_win], color='green')\n",
    "plt.ylabel('Odds')\n",
    "plt.title('Total Winning Odds')\n",
    "plt.tight_layout()\n",
    "plt.show()"
   ]
  },
  {
   "cell_type": "code",
   "execution_count": 15,
   "id": "df4deaf6",
   "metadata": {},
   "outputs": [],
   "source": [
    "# Individual Profits\n",
    "df_individual_profits = df[['bet_id', 'bet_amount', 'odds', 'bet_outcome', 'profit_loss']]"
   ]
  },
  {
   "cell_type": "code",
   "execution_count": 16,
   "id": "8cf44732",
   "metadata": {},
   "outputs": [
    {
     "name": "stdout",
     "output_type": "stream",
     "text": [
      "    bet_id  bet_amount  odds bet_outcome  profit_loss\n",
      "0     1001         100   1.5         win         50.0\n",
      "1     1002         150   2.2        loss       -150.0\n",
      "2     1003          50   1.8         win         40.0\n",
      "3     1004          75   2.0         win         75.0\n",
      "4     1005         125   1.9         win        112.5\n",
      "5     1006          80   2.1        loss        -80.0\n",
      "6     1007         200   1.6        loss       -200.0\n",
      "7     1008         100   2.4         win        140.0\n",
      "8     1009          60   1.7        loss        -60.0\n",
      "9     1010         150   1.9         win        135.0\n",
      "10    1011         100   2.0        loss       -100.0\n",
      "11    1012          70   2.2         win         84.0\n"
     ]
    }
   ],
   "source": [
    "print(df_individual_profits)"
   ]
  },
  {
   "cell_type": "code",
   "execution_count": 17,
   "id": "37a82745",
   "metadata": {},
   "outputs": [],
   "source": [
    "# Task 8 Advance Analytics  - Financial Analysis"
   ]
  },
  {
   "cell_type": "code",
   "execution_count": 18,
   "id": "42ee34a8",
   "metadata": {},
   "outputs": [],
   "source": [
    "# Calculate the Profit\n",
    "df['Profit'] = df.apply(lambda row: row['bet_amount'] * (row['odds'] - 1) if row['bet_outcome'] == 'win' else -row['bet_amount'], axis=1 )"
   ]
  },
  {
   "cell_type": "code",
   "execution_count": 19,
   "id": "ed1be68b",
   "metadata": {},
   "outputs": [
    {
     "name": "stdout",
     "output_type": "stream",
     "text": [
      "Total Profit / Loss: 46.5\n"
     ]
    }
   ],
   "source": [
    "# Overall Profit/Loss Calculation\n",
    "total_profit = df['Profit'].sum()\n",
    "print(f\"Total Profit / Loss: {total_profit}\")"
   ]
  },
  {
   "cell_type": "code",
   "execution_count": 20,
   "id": "117c8aaf",
   "metadata": {},
   "outputs": [
    {
     "name": "stdout",
     "output_type": "stream",
     "text": [
      "Profit/Loss by Bet Type\n",
      "bet_type\n",
      "moneyline     60.0\n",
      "over/under   -16.0\n",
      "spread         2.5\n",
      "Name: Profit, dtype: float64\n"
     ]
    }
   ],
   "source": [
    "# Profit/Loss by Bet Type \n",
    "\n",
    "profit_type = df.groupby('bet_type')['Profit'].sum()\n",
    "print(\"Profit/Loss by Bet Type\")\n",
    "print(profit_type)"
   ]
  },
  {
   "cell_type": "code",
   "execution_count": 23,
   "id": "f43847a1",
   "metadata": {},
   "outputs": [
    {
     "name": "stdout",
     "output_type": "stream",
     "text": [
      "Profit/Loss By Event Date\n",
      "event_date\n",
      "2022-01-01    -60.0\n",
      "2022-01-02    107.5\n",
      "2022-01-03   -120.0\n",
      "2022-01-04    119.0\n",
      "Name: Profit, dtype: float64\n"
     ]
    }
   ],
   "source": [
    "# Profit/Loss By Event Date\n",
    "profit_date = df.groupby('event_date')['Profit'].sum()\n",
    "print(\"Profit/Loss By Event Date\")\n",
    "print(profit_date)"
   ]
  },
  {
   "cell_type": "code",
   "execution_count": 26,
   "id": "d845de85",
   "metadata": {},
   "outputs": [
    {
     "name": "stdout",
     "output_type": "stream",
     "text": [
      "ROI: 3.7%\n"
     ]
    }
   ],
   "source": [
    "# Return On Investment \n",
    "total_investment = df['bet_amount'].sum()\n",
    "roi = (total_profit / total_investment) * 100\n",
    "print(f\"ROI: {roi:.2}%\")\n"
   ]
  },
  {
   "cell_type": "code",
   "execution_count": 28,
   "id": "e943e98d",
   "metadata": {},
   "outputs": [],
   "source": [
    "# Statistical (Inspiration By Betson Hackathon in Malta)"
   ]
  },
  {
   "cell_type": "code",
   "execution_count": 29,
   "id": "f94a5727",
   "metadata": {},
   "outputs": [
    {
     "name": "stdout",
     "output_type": "stream",
     "text": [
      "Bettng Volume by Event Date:\n",
      "event_date\n",
      "2022-01-01    3\n",
      "2022-01-02    3\n",
      "2022-01-03    3\n",
      "2022-01-04    3\n",
      "dtype: int64\n"
     ]
    }
   ],
   "source": [
    "# Betting Patterns And Trends\n",
    "\n",
    "bets_by_date = df.groupby(\"event_date\").size()\n",
    "print(\"Bettng Volume by Event Date:\")\n",
    "print(bets_by_date)"
   ]
  },
  {
   "cell_type": "code",
   "execution_count": 30,
   "id": "dd9aa28a",
   "metadata": {},
   "outputs": [
    {
     "name": "stdout",
     "output_type": "stream",
     "text": [
      "Average Bet Amount By Bet Type\n",
      "bet_type\n",
      "moneyline     131.25\n",
      "over/under     65.00\n",
      "spread        118.75\n",
      "Name: bet_amount, dtype: float64\n"
     ]
    }
   ],
   "source": [
    "# Average Bet Amount by Bet Type\n",
    "\n",
    "avg_bet_am = df.groupby('bet_type')['bet_amount'].mean()\n",
    "print(\"Average Bet Amount By Bet Type\")\n",
    "print(avg_bet_am)\n"
   ]
  },
  {
   "cell_type": "code",
   "execution_count": 31,
   "id": "58df02f5",
   "metadata": {},
   "outputs": [
    {
     "name": "stdout",
     "output_type": "stream",
     "text": [
      "Bet outcome Distribution:\n",
      "win     7\n",
      "loss    5\n",
      "Name: bet_outcome, dtype: int64\n"
     ]
    }
   ],
   "source": [
    "# Bet Distribution\n",
    "\n",
    "outcome_distr = df['bet_outcome'].value_counts()\n",
    "print(\"Bet outcome Distribution:\")\n",
    "print(outcome_distr)\n"
   ]
  },
  {
   "cell_type": "code",
   "execution_count": 35,
   "id": "9b6697b9",
   "metadata": {},
   "outputs": [
    {
     "name": "stdout",
     "output_type": "stream",
     "text": [
      "\n",
      "Average Odds of Wins: 1.96\n",
      "Average Odds of Losses: 1.92\n"
     ]
    }
   ],
   "source": [
    "# Average Odds of Wins vs Loss\n",
    "\n",
    "avg_odds_win = df[df['bet_outcome'] == 'win']['odds'].mean()\n",
    "avg_odds_lose = df[df['bet_outcome'] == 'loss']['odds'].mean()\n",
    "\n",
    "print(f\"\\nAverage Odds of Wins: {avg_odds_win:.2f}\")\n",
    "print(f\"Average Odds of Losses: {avg_odds_lose:.2f}\")\n"
   ]
  },
  {
   "cell_type": "code",
   "execution_count": 38,
   "id": "e70c730a",
   "metadata": {},
   "outputs": [
    {
     "name": "stdout",
     "output_type": "stream",
     "text": [
      "Profit By Odds Range:\n",
      "odds_range\n",
      "1.0-1.5    50.0\n",
      "1.5-2.0     2.5\n",
      "2.0-2.5    -6.0\n",
      "2.5-3.0     0.0\n",
      "Name: Profit, dtype: float64\n"
     ]
    }
   ],
   "source": [
    "# Impact of Odds on Profitability\n",
    "\n",
    "df['odds_range'] = pd.cut(df['odds'], bins=[1.0, 1.5, 2.0, 2.5, 3.0], labels=['1.0-1.5', '1.5-2.0', '2.0-2.5', '2.5-3.0'])\n",
    "profit_odds = df.groupby('odds_range')['Profit'].sum()\n",
    "print(\"Profit By Odds Range:\")\n",
    "print(profit_odds)\n"
   ]
  },
  {
   "cell_type": "code",
   "execution_count": 39,
   "id": "87dbc1af",
   "metadata": {},
   "outputs": [
    {
     "name": "stdout",
     "output_type": "stream",
     "text": [
      "\n",
      "Average Bet Amount by Outcome:\n",
      "bet_outcome\n",
      "loss    118.000000\n",
      "win      95.714286\n",
      "Name: bet_amount, dtype: float64\n"
     ]
    }
   ],
   "source": [
    "# Risk Analysis\n",
    "\n",
    "bet_outcome = df.groupby('bet_outcome')['bet_amount'].mean()\n",
    "print(\"\\nAverage Bet Amount by Outcome:\")\n",
    "print(bet_outcome)\n",
    "\n"
   ]
  },
  {
   "cell_type": "code",
   "execution_count": 41,
   "id": "db18035c",
   "metadata": {},
   "outputs": [
    {
     "name": "stdout",
     "output_type": "stream",
     "text": [
      "\n",
      "Variance in Bet Outcomes:\n",
      "bet_outcome\n",
      "loss    3220.000000\n",
      "win     1564.369048\n",
      "Name: Profit, dtype: float64\n"
     ]
    }
   ],
   "source": [
    "# Variance In Bet Outcomes\n",
    "var_out = df.groupby('bet_outcome')['Profit'].var()\n",
    "print(\"\\nVariance in Bet Outcomes:\")\n",
    "print(var_out)"
   ]
  },
  {
   "cell_type": "code",
   "execution_count": 44,
   "id": "88db5198",
   "metadata": {},
   "outputs": [
    {
     "name": "stdout",
     "output_type": "stream",
     "text": [
      "\n",
      "Optimal Bet Types by Profit:\n",
      "bet_type\n",
      "moneyline     60.0\n",
      "spread         2.5\n",
      "over/under   -16.0\n",
      "Name: Profit, dtype: float64\n"
     ]
    }
   ],
   "source": [
    "# Optimization and Strategy Insights\n",
    "optimal_bet = profit_type.sort_values(ascending=False)\n",
    "print(\"\\nOptimal Bet Types by Profit:\")\n",
    "print(optimal_bet_types)"
   ]
  },
  {
   "cell_type": "code",
   "execution_count": 45,
   "id": "66c7f003",
   "metadata": {},
   "outputs": [
    {
     "name": "stdout",
     "output_type": "stream",
     "text": [
      "\n",
      "Recommended Bet Type Based on Historical Success: moneyline\n"
     ]
    }
   ],
   "source": [
    "#Recommendation System - Basic Strategy Insight\n",
    "recommended = optimal_bet.idxmax()\n",
    "print(f\"\\nRecommended Bet Type Based on Historical Success: {recommended}\")"
   ]
  },
  {
   "cell_type": "code",
   "execution_count": null,
   "id": "e6ca8f1a",
   "metadata": {},
   "outputs": [],
   "source": []
  }
 ],
 "metadata": {
  "kernelspec": {
   "display_name": "Python 3 (ipykernel)",
   "language": "python",
   "name": "python3"
  },
  "language_info": {
   "codemirror_mode": {
    "name": "ipython",
    "version": 3
   },
   "file_extension": ".py",
   "mimetype": "text/x-python",
   "name": "python",
   "nbconvert_exporter": "python",
   "pygments_lexer": "ipython3",
   "version": "3.9.12"
  }
 },
 "nbformat": 4,
 "nbformat_minor": 5
}
