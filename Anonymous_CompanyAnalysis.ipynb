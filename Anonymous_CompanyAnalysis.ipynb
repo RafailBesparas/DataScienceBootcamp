{
 "cells": [
  {
   "cell_type": "code",
   "execution_count": 2,
   "id": "29c1add2",
   "metadata": {},
   "outputs": [
    {
     "data": {
      "text/html": [
       "<div>\n",
       "<style scoped>\n",
       "    .dataframe tbody tr th:only-of-type {\n",
       "        vertical-align: middle;\n",
       "    }\n",
       "\n",
       "    .dataframe tbody tr th {\n",
       "        vertical-align: top;\n",
       "    }\n",
       "\n",
       "    .dataframe thead th {\n",
       "        text-align: right;\n",
       "    }\n",
       "</style>\n",
       "<table border=\"1\" class=\"dataframe\">\n",
       "  <thead>\n",
       "    <tr style=\"text-align: right;\">\n",
       "      <th></th>\n",
       "      <th>Date</th>\n",
       "      <th>Product</th>\n",
       "      <th>Revenue</th>\n",
       "    </tr>\n",
       "  </thead>\n",
       "  <tbody>\n",
       "    <tr>\n",
       "      <th>0</th>\n",
       "      <td>2023-01-01</td>\n",
       "      <td>A</td>\n",
       "      <td>100</td>\n",
       "    </tr>\n",
       "    <tr>\n",
       "      <th>1</th>\n",
       "      <td>2023-01-02</td>\n",
       "      <td>B</td>\n",
       "      <td>200</td>\n",
       "    </tr>\n",
       "    <tr>\n",
       "      <th>2</th>\n",
       "      <td>2023-01-03</td>\n",
       "      <td>A</td>\n",
       "      <td>150</td>\n",
       "    </tr>\n",
       "    <tr>\n",
       "      <th>3</th>\n",
       "      <td>2023-01-04</td>\n",
       "      <td>B</td>\n",
       "      <td>300</td>\n",
       "    </tr>\n",
       "    <tr>\n",
       "      <th>4</th>\n",
       "      <td>2023-01-05</td>\n",
       "      <td>A</td>\n",
       "      <td>120</td>\n",
       "    </tr>\n",
       "  </tbody>\n",
       "</table>\n",
       "</div>"
      ],
      "text/plain": [
       "         Date Product  Revenue\n",
       "0  2023-01-01       A      100\n",
       "1  2023-01-02       B      200\n",
       "2  2023-01-03       A      150\n",
       "3  2023-01-04       B      300\n",
       "4  2023-01-05       A      120"
      ]
     },
     "execution_count": 2,
     "metadata": {},
     "output_type": "execute_result"
    }
   ],
   "source": [
    "import pandas as pd\n",
    "import numpy as np\n",
    "import matplotlib.pyplot as plt\n",
    "import seaborn as sns\n",
    "\n",
    "# importing Data Set \n",
    "df = pd.read_csv(\"example3_2024-08-30T1144.csv\")\n",
    "df.head()"
   ]
  },
  {
   "cell_type": "code",
   "execution_count": 17,
   "id": "b5198583",
   "metadata": {},
   "outputs": [
    {
     "name": "stdout",
     "output_type": "stream",
     "text": [
      "Total Revenue Per Product:\n",
      " Product\n",
      "A     650\n",
      "B    1380\n",
      "Name: Revenue, dtype: int64\n",
      "\n",
      "Daily Revenue Trends:\n",
      "Product         A      B\n",
      "Date                    \n",
      "2023-01-01  100.0    NaN\n",
      "2023-01-02    NaN  200.0\n",
      "2023-01-03  150.0    NaN\n",
      "2023-01-04    NaN  300.0\n",
      "2023-01-05  120.0    NaN\n",
      "2023-01-06    NaN  250.0\n",
      "2023-01-07  170.0    NaN\n",
      "2023-01-08    NaN  350.0\n",
      "2023-01-09  110.0    NaN\n",
      "2023-01-10    NaN  280.0\n"
     ]
    }
   ],
   "source": [
    "# Statistical Analysis\n",
    "\n",
    "df['Date'] = pd.to_datetime(df['Date'])\n",
    "\n",
    "\n",
    "# Total Revenue Per product\n",
    "total_revenue = df.groupby('Product')['Revenue'].sum()\n",
    "print(\"Total Revenue Per Product:\\n\",total_revenue)\n",
    "\n",
    "# Trend Analysis - Daily Revenue Trend\n",
    "dayly_revenue =  df.pivot(index='Date', columns='Product', values='Revenue')\n",
    "print('\\nDaily Revenue Trends:')\n",
    "print(dayly_revenue)\n"
   ]
  },
  {
   "cell_type": "code",
   "execution_count": 4,
   "id": "4467fecb",
   "metadata": {},
   "outputs": [
    {
     "name": "stdout",
     "output_type": "stream",
     "text": [
      "\n",
      " Average Revenue Per Product\n",
      "Product\n",
      "A    130.0\n",
      "B    276.0\n",
      "Name: Revenue, dtype: float64\n"
     ]
    }
   ],
   "source": [
    "# Average Revenue Per Product\n",
    "\n",
    "avg_rev = df.groupby('Product')['Revenue'].mean()\n",
    "print('\\n Average Revenue Per Product')\n",
    "print(avg_rev)"
   ]
  },
  {
   "cell_type": "code",
   "execution_count": 5,
   "id": "f38a66a2",
   "metadata": {},
   "outputs": [],
   "source": [
    "# Visualizations"
   ]
  },
  {
   "cell_type": "code",
   "execution_count": 15,
   "id": "2b627461",
   "metadata": {},
   "outputs": [
    {
     "data": {
      "image/png": "[encoded data removed]",
      "text/plain": [
       "<Figure size 432x288 with 1 Axes>"
      ]
     },
     "metadata": {
      "needs_background": "light"
     },
     "output_type": "display_data"
    }
   ],
   "source": [
    "# Plot total revenue per product\n",
    "plt.subplot(2, 1, 2)\n",
    "total_revenue.plot(kind='bar', color=['skyblue', 'salmon'])\n",
    "plt.title('Total Revenue per Product')\n",
    "plt.xlabel('Product')\n",
    "plt.ylabel('Total Revenue')\n",
    "plt.grid(True)"
   ]
  },
  {
   "cell_type": "code",
   "execution_count": 19,
   "id": "22081f8f",
   "metadata": {},
   "outputs": [
    {
     "data": {
      "image/png": "[encoded data removed]",
      "text/plain": [
       "<Figure size 432x288 with 1 Axes>"
      ]
     },
     "metadata": {
      "needs_background": "light"
     },
     "output_type": "display_data"
    }
   ],
   "source": [
    "# Plot Daily Revenue\n",
    "dayly_revenue.plot(kind='bar', stacked=True, color=['skyblue', 'salmon'], ax=plt.gca())\n",
    "plt.title('Daily Revenue - Stacked Bar Chart')\n",
    "plt.xlabel('Date')\n",
    "plt.ylabel('Revenue')\n",
    "plt.xticks(rotation=45)\n",
    "plt.legend(title='Product')\n",
    "plt.grid(True)"
   ]
  },
  {
   "cell_type": "code",
   "execution_count": 20,
   "id": "69f38fa8",
   "metadata": {},
   "outputs": [],
   "source": [
    "# Financial Ratio Analysis"
   ]
  },
  {
   "cell_type": "code",
   "execution_count": 21,
   "id": "b9002457",
   "metadata": {},
   "outputs": [
    {
     "name": "stdout",
     "output_type": "stream",
     "text": [
      "Day to Day growth rate (%) :\n",
      "Product             A          B\n",
      "Date                            \n",
      "2023-01-01        NaN        NaN\n",
      "2023-01-02   0.000000        NaN\n",
      "2023-01-03  50.000000   0.000000\n",
      "2023-01-04   0.000000  50.000000\n",
      "2023-01-05 -20.000000   0.000000\n",
      "2023-01-06   0.000000 -16.666667\n",
      "2023-01-07  41.666667   0.000000\n",
      "2023-01-08   0.000000  40.000000\n",
      "2023-01-09 -35.294118   0.000000\n",
      "2023-01-10   0.000000 -20.000000\n"
     ]
    }
   ],
   "source": [
    "# Growth Rate (Day to day)\n",
    "\n",
    "growth_rate = dayly_revenue.pct_change() * 100\n",
    "print(\"Day to Day growth rate (%) :\")\n",
    "print(growth_rate)"
   ]
  },
  {
   "cell_type": "code",
   "execution_count": 23,
   "id": "2cf05171",
   "metadata": {},
   "outputs": [],
   "source": [
    "# Visulization of Growth Rate Day to Day"
   ]
  },
  {
   "cell_type": "code",
   "execution_count": 25,
   "id": "05fc21a6",
   "metadata": {},
   "outputs": [
    {
     "data": {
      "image/png": "[encoded data removed]",
      "text/plain": [
       "<Figure size 432x288 with 1 Axes>"
      ]
     },
     "metadata": {
      "needs_background": "light"
     },
     "output_type": "display_data"
    }
   ],
   "source": [
    "plt.subplot(2, 1, 1)\n",
    "plt.plot(growth_rate.index, growth_rate['A'], label='Product A Growth Rate', linestyle='--', marker='o', color='green')\n",
    "plt.plot(growth_rate.index, growth_rate['B'], label='Product B Growth Rate', linestyle='--', marker='o', color='blue')\n",
    "plt.title('Day-over-Day Growth Rate (%)')\n",
    "plt.xlabel('Date')\n",
    "plt.ylabel('Growth Rate (%)')\n",
    "plt.legend()\n",
    "plt.grid(True)"
   ]
  },
  {
   "cell_type": "code",
   "execution_count": 30,
   "id": "6a89081b",
   "metadata": {},
   "outputs": [
    {
     "name": "stdout",
     "output_type": "stream",
     "text": [
      "Average Revenue per Day: Product\n",
      "A    130.0\n",
      "B    276.0\n",
      "dtype: float64\n"
     ]
    }
   ],
   "source": [
    "# Average revenue per day\n",
    "avg_rev_per_day = dayly_revenue.mean()\n",
    "print(\"Average Revenue per Day:\",avg_rev_per_day)"
   ]
  },
  {
   "cell_type": "code",
   "execution_count": null,
   "id": "a8ee0800",
   "metadata": {},
   "outputs": [],
   "source": []
  }
 ],
 "metadata": {
  "kernelspec": {
   "display_name": "Python 3 (ipykernel)",
   "language": "python",
   "name": "python3"
  },
  "language_info": {
   "codemirror_mode": {
    "name": "ipython",
    "version": 3
   },
   "file_extension": ".py",
   "mimetype": "text/x-python",
   "name": "python",
   "nbconvert_exporter": "python",
   "pygments_lexer": "ipython3",
   "version": "3.9.12"
  }
 },
 "nbformat": 4,
 "nbformat_minor": 5
}
